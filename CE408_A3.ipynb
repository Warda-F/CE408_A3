{
 "cells": [
  {
   "cell_type": "code",
   "execution_count": null,
   "metadata": {},
   "outputs": [],
   "source": [
    "from pyspark.sql import SparkSession"
   ]
  },
  {
   "cell_type": "code",
   "execution_count": null,
   "metadata": {},
   "outputs": [],
   "source": [
    "# Initialising the spark session\n",
    "spark = SparkSession.builder.appName('EDA_NetflixTitles').getOrCreate()"
   ]
  },
  {
   "cell_type": "code",
   "execution_count": null,
   "metadata": {},
   "outputs": [],
   "source": [
    "# Reading the csv dataset into Spark DataFrame\n",
    "df = spark.read.csv('netflix_titles.csv', header=True, inferSchema=True)"
   ]
  },
  {
   "cell_type": "code",
   "execution_count": null,
   "metadata": {},
   "outputs": [],
   "source": [
    "# Printing schema of the dataset (columns with data types)\n",
    "df.printSchema()\n",
    "\n",
    "# Displaying the first ten rows of the dataset\n",
    "df.show(10)\n",
    "\n",
    "#Counting the number of rows in dataset - Output(6236)\n",
    "df.count()"
   ]
  },
  {
   "cell_type": "code",
   "execution_count": null,
   "metadata": {},
   "outputs": [],
   "source": [
    "# Statisical summary - currently no useful information since data type is string\n",
    "df.describe().show()\n",
    "\n",
    "df.describe([“title”]).show()"
   ]
  },
  {
   "cell_type": "code",
   "execution_count": null,
   "metadata": {},
   "outputs": [],
   "source": [
    "# Showing count of shows/movies by country\n",
    "df.groupBy(\"country\").count().show()\n",
    "\n",
    "# Showing count of shows/movies by type (i.e. whether a TV show or movie)\n",
    "df.groupBy(\"listed_in\").count().show()\n",
    "\n",
    "# Showing count of shows/movies by genre\n",
    "df.groupBy(\"listed_in\").count().show()\n",
    "\n",
    "# Showing count of shows/movies by release year\n",
    "df.groupBy(\"release_year\").count().show()"
   ]
  },
  {
   "cell_type": "code",
   "execution_count": null,
   "metadata": {},
   "outputs": [],
   "source": [
    "# Checking each of the columns of the datset for missing values\n",
    "from pyspark.sql.functions import col\n",
    "df.select([col(c).isNull().alias(c) for c in df.columns]).show()\n",
    "\n",
    "# Removing the rows with missing values and save it to df_cleaned\n",
    "df_cleaned = df.dropna()\n",
    "\n",
    "# Displaying the first five rows of the cleaned dataset\n",
    "df_cleaned.show(5)\n",
    "\n",
    "# Counting the number of rows in the filtered dataset (almost halved - 3772)\n",
    "df_cleaned.count()"
   ]
  },
  {
   "cell_type": "code",
   "execution_count": null,
   "metadata": {},
   "outputs": [],
   "source": [
    "# Converting data types to integer for release year and show ID\n",
    "df_cleaned = df_cleaned.withColumn(\"release_year\", df_cleaned[\"release_year\"].cast(\"int\"))\n",
    "df_cleaned = df_cleaned.withColumn(\"show_id\", df_cleaned[\"show_id\"].cast(\"int\"))"
   ]
  },
  {
   "cell_type": "code",
   "execution_count": null,
   "metadata": {},
   "outputs": [],
   "source": [
    "# Printing schema to check updated schema\n",
    "df_cleaned.printSchema()"
   ]
  },
  {
   "cell_type": "code",
   "execution_count": null,
   "metadata": {},
   "outputs": [],
   "source": [
    "# Showing statistical summary of the release years of the movies/shows in dataset\n",
    "df_cleaned.describe(\"release_year\").show()\n",
    "\n",
    "# Showing the count of movies/shows by genre in descending order\n",
    "df_cleaned.groupBy(\"listed_in\").count().orderBy(\"count\", ascending=False).show()\n",
    "\n",
    "# Showing the count of movies/shows by rating in descending order\n",
    "df_cleaned.groupBy(\"rating\").count().orderBy(\"count\", ascending=False).show()"
   ]
  },
  {
   "cell_type": "code",
   "execution_count": null,
   "metadata": {},
   "outputs": [],
   "source": [
    "from pyspark.sql.functions import length\n",
    "\n",
    "df_cleaned = df_cleaned.withColumn(\"title_length\", length(\"title\"))\n",
    "\n",
    "# Showing the top 5 movie/show titles with the longest character lengths\n",
    "df_cleaned.orderBy(\"title_length\", ascending=False).select(\"title\", \"title_length\").show(5)\n",
    "\n",
    "# Showing the least 5 movie/show titles with the shortest character lengths\n",
    "df_cleaned.orderBy(\"title_length\").select(\"title\", \"title_length\").show(5)"
   ]
  }
 ],
 "metadata": {
  "kernelspec": {
   "display_name": "Python 3",
   "language": "python",
   "name": "python3"
  },
  "language_info": {
   "codemirror_mode": {
    "name": "ipython",
    "version": 3
   },
   "file_extension": ".py",
   "mimetype": "text/x-python",
   "name": "python",
   "nbconvert_exporter": "python",
   "pygments_lexer": "ipython3",
   "version": "3.8.5"
  }
 },
 "nbformat": 4,
 "nbformat_minor": 4
}
